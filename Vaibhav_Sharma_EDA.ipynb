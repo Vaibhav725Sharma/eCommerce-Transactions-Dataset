{
 "cells": [
  {
   "cell_type": "markdown",
   "id": "6a63ef35-a1d0-471d-8eb1-4d388869aa97",
   "metadata": {},
   "source": [
    "#### Task 1: Exploratory Data Analysis (EDA) and Business Insights\n",
    "\n",
    "### EDA Process\n",
    "\n",
    " There is no null values in the Dataset <br>\n",
    " No duplicate <br>\n",
    " No outliers \n",
    "\n",
    "### 1. Customer dataset contains column name \n",
    "CustomerID\t<br>CustomerName<br>\tRegion<br>\tSignupDate : data type object converted to datetime\n",
    "\n",
    "### 2. Products dataset contains column name \n",
    "ProductID<br>\tProductName<br>\tCategory<br>\tPrice<br>\n",
    "### 3. Transactions dataset contains column name like\n",
    "TransactionID<br>\tCustomerID<br>\tProductID<br>\tTransactionDate<br>\tQuantity<br>\tTotalValue<br>\tPrice<br>\n",
    "\n",
    "Column id and Product id later on used for merging dataset"
   ]
  },
  {
   "cell_type": "code",
   "execution_count": 97,
   "id": "afaa480f-65c8-4687-9e6d-1db40bc482be",
   "metadata": {},
   "outputs": [],
   "source": [
    "import pandas as pd\n",
    "import seaborn as sns\n",
    "import matplotlib.pyplot as plt"
   ]
  },
  {
   "cell_type": "code",
   "execution_count": 98,
   "id": "7972e5b7-c8f3-4611-a909-da2cb1d9833f",
   "metadata": {},
   "outputs": [],
   "source": [
    "customers = pd.read_csv('Customers.csv')\n",
    "products = pd.read_csv('Products.csv')\n",
    "transactions = pd.read_csv('Transactions.csv')"
   ]
  },
  {
   "cell_type": "code",
   "execution_count": 99,
   "id": "081571c9-93d5-4ec1-afc2-106593f76636",
   "metadata": {},
   "outputs": [
    {
     "name": "stdout",
     "output_type": "stream",
     "text": [
      "Customers Dataset:\n"
     ]
    },
    {
     "data": {
      "text/html": [
       "<div>\n",
       "<style scoped>\n",
       "    .dataframe tbody tr th:only-of-type {\n",
       "        vertical-align: middle;\n",
       "    }\n",
       "\n",
       "    .dataframe tbody tr th {\n",
       "        vertical-align: top;\n",
       "    }\n",
       "\n",
       "    .dataframe thead th {\n",
       "        text-align: right;\n",
       "    }\n",
       "</style>\n",
       "<table border=\"1\" class=\"dataframe\">\n",
       "  <thead>\n",
       "    <tr style=\"text-align: right;\">\n",
       "      <th></th>\n",
       "      <th>CustomerID</th>\n",
       "      <th>CustomerName</th>\n",
       "      <th>Region</th>\n",
       "      <th>SignupDate</th>\n",
       "    </tr>\n",
       "  </thead>\n",
       "  <tbody>\n",
       "    <tr>\n",
       "      <th>0</th>\n",
       "      <td>C0001</td>\n",
       "      <td>Lawrence Carroll</td>\n",
       "      <td>South America</td>\n",
       "      <td>2022-07-10</td>\n",
       "    </tr>\n",
       "    <tr>\n",
       "      <th>1</th>\n",
       "      <td>C0002</td>\n",
       "      <td>Elizabeth Lutz</td>\n",
       "      <td>Asia</td>\n",
       "      <td>2022-02-13</td>\n",
       "    </tr>\n",
       "    <tr>\n",
       "      <th>2</th>\n",
       "      <td>C0003</td>\n",
       "      <td>Michael Rivera</td>\n",
       "      <td>South America</td>\n",
       "      <td>2024-03-07</td>\n",
       "    </tr>\n",
       "    <tr>\n",
       "      <th>3</th>\n",
       "      <td>C0004</td>\n",
       "      <td>Kathleen Rodriguez</td>\n",
       "      <td>South America</td>\n",
       "      <td>2022-10-09</td>\n",
       "    </tr>\n",
       "    <tr>\n",
       "      <th>4</th>\n",
       "      <td>C0005</td>\n",
       "      <td>Laura Weber</td>\n",
       "      <td>Asia</td>\n",
       "      <td>2022-08-15</td>\n",
       "    </tr>\n",
       "  </tbody>\n",
       "</table>\n",
       "</div>"
      ],
      "text/plain": [
       "  CustomerID        CustomerName         Region  SignupDate\n",
       "0      C0001    Lawrence Carroll  South America  2022-07-10\n",
       "1      C0002      Elizabeth Lutz           Asia  2022-02-13\n",
       "2      C0003      Michael Rivera  South America  2024-03-07\n",
       "3      C0004  Kathleen Rodriguez  South America  2022-10-09\n",
       "4      C0005         Laura Weber           Asia  2022-08-15"
      ]
     },
     "execution_count": 99,
     "metadata": {},
     "output_type": "execute_result"
    }
   ],
   "source": [
    "print(\"Customers Dataset:\")\n",
    "customers.head()"
   ]
  },
  {
   "cell_type": "code",
   "execution_count": 100,
   "id": "3f1db514-12ee-4fae-ab63-f0c142eee4cf",
   "metadata": {},
   "outputs": [
    {
     "name": "stdout",
     "output_type": "stream",
     "text": [
      "<class 'pandas.core.frame.DataFrame'>\n",
      "RangeIndex: 200 entries, 0 to 199\n",
      "Data columns (total 4 columns):\n",
      " #   Column        Non-Null Count  Dtype \n",
      "---  ------        --------------  ----- \n",
      " 0   CustomerID    200 non-null    object\n",
      " 1   CustomerName  200 non-null    object\n",
      " 2   Region        200 non-null    object\n",
      " 3   SignupDate    200 non-null    object\n",
      "dtypes: object(4)\n",
      "memory usage: 6.4+ KB\n"
     ]
    }
   ],
   "source": [
    "customers.info()"
   ]
  },
  {
   "cell_type": "code",
   "execution_count": 101,
   "id": "7b0b63b6-e99b-4ddd-9ffe-afe2a300979b",
   "metadata": {},
   "outputs": [
    {
     "data": {
      "text/html": [
       "<div>\n",
       "<style scoped>\n",
       "    .dataframe tbody tr th:only-of-type {\n",
       "        vertical-align: middle;\n",
       "    }\n",
       "\n",
       "    .dataframe tbody tr th {\n",
       "        vertical-align: top;\n",
       "    }\n",
       "\n",
       "    .dataframe thead th {\n",
       "        text-align: right;\n",
       "    }\n",
       "</style>\n",
       "<table border=\"1\" class=\"dataframe\">\n",
       "  <thead>\n",
       "    <tr style=\"text-align: right;\">\n",
       "      <th></th>\n",
       "      <th>CustomerID</th>\n",
       "      <th>CustomerName</th>\n",
       "      <th>Region</th>\n",
       "      <th>SignupDate</th>\n",
       "    </tr>\n",
       "  </thead>\n",
       "  <tbody>\n",
       "    <tr>\n",
       "      <th>count</th>\n",
       "      <td>200</td>\n",
       "      <td>200</td>\n",
       "      <td>200</td>\n",
       "      <td>200</td>\n",
       "    </tr>\n",
       "    <tr>\n",
       "      <th>unique</th>\n",
       "      <td>200</td>\n",
       "      <td>200</td>\n",
       "      <td>4</td>\n",
       "      <td>179</td>\n",
       "    </tr>\n",
       "    <tr>\n",
       "      <th>top</th>\n",
       "      <td>C0001</td>\n",
       "      <td>Lawrence Carroll</td>\n",
       "      <td>South America</td>\n",
       "      <td>2024-11-11</td>\n",
       "    </tr>\n",
       "    <tr>\n",
       "      <th>freq</th>\n",
       "      <td>1</td>\n",
       "      <td>1</td>\n",
       "      <td>59</td>\n",
       "      <td>3</td>\n",
       "    </tr>\n",
       "  </tbody>\n",
       "</table>\n",
       "</div>"
      ],
      "text/plain": [
       "       CustomerID      CustomerName         Region  SignupDate\n",
       "count         200               200            200         200\n",
       "unique        200               200              4         179\n",
       "top         C0001  Lawrence Carroll  South America  2024-11-11\n",
       "freq            1                 1             59           3"
      ]
     },
     "execution_count": 101,
     "metadata": {},
     "output_type": "execute_result"
    }
   ],
   "source": [
    "customers.describe()"
   ]
  },
  {
   "cell_type": "code",
   "execution_count": 102,
   "id": "ad2994dc-5e89-4f11-8c4d-4721183d5187",
   "metadata": {},
   "outputs": [],
   "source": [
    "# converting 'SignupDate' to datetime\n",
    "customers['SignupDate'] = pd.to_datetime(customers['SignupDate'])"
   ]
  },
  {
   "cell_type": "code",
   "execution_count": 103,
   "id": "8cbd90a5-2ca6-4ce9-9a40-8b84b8b0d2f2",
   "metadata": {},
   "outputs": [
    {
     "name": "stdout",
     "output_type": "stream",
     "text": [
      "\n",
      "Duplicate Rows in Customers Dataset:\n",
      "0\n"
     ]
    }
   ],
   "source": [
    "# checking for duplicates values\n",
    "\n",
    "print(\"\\nDuplicate Rows in Customers Dataset:\")\n",
    "print(customers.duplicated().sum())\n"
   ]
  },
  {
   "cell_type": "code",
   "execution_count": 104,
   "id": "cdfd0aac-f3db-4d19-bc9a-6f658b9f09b0",
   "metadata": {},
   "outputs": [
    {
     "data": {
      "image/png": "[encoded data removed]",
      "text/plain": [
       "<Figure size 800x500 with 1 Axes>"
      ]
     },
     "metadata": {},
     "output_type": "display_data"
    }
   ],
   "source": [
    "# Univariate Analysis\n",
    "\n",
    "# count of distribution of the categorical variable 'Region'\n",
    "plt.figure(figsize=(8, 5))\n",
    "sns.countplot(data=customers, x='Region', palette='Set2')\n",
    "plt.title('Customer Distribution by Region')\n",
    "plt.xlabel('Region')\n",
    "plt.ylabel('Count')\n",
    "plt.show()"
   ]
  },
  {
   "cell_type": "code",
   "execution_count": 105,
   "id": "bccf4b88-8606-492b-b268-28a037385be5",
   "metadata": {},
   "outputs": [],
   "source": [
    "# analysis on 'SignupDate' \n",
    "\n",
    "customers['SignupYear'] = customers['SignupDate'].dt.year\n",
    "customers['SignupMonth'] = customers['SignupDate'].dt.month\n",
    "customers['SignupDay'] = customers['SignupDate'].dt.day\n"
   ]
  },
  {
   "cell_type": "code",
   "execution_count": 106,
   "id": "b3bf266c-95b6-4cd3-b63c-ec0be6d68ed8",
   "metadata": {},
   "outputs": [
    {
     "data": {
      "image/png": "[encoded data removed]",
      "text/plain": [
       "<Figure size 1000x600 with 1 Axes>"
      ]
     },
     "metadata": {},
     "output_type": "display_data"
    }
   ],
   "source": [
    "# Plot the distribution of signup months\n",
    "\n",
    "plt.figure(figsize=(10, 6))\n",
    "sns.countplot(data=customers, x='SignupMonth', color='teal')\n",
    "plt.title('Signup Month Distribution')\n",
    "plt.xlabel('Month')\n",
    "plt.ylabel('Count')\n",
    "plt.xticks(ticks=range(12), labels=[\"Jan\", \"Feb\", \"Mar\", \"Apr\", \"May\", \"Jun\", \"Jul\", \"Aug\", \"Sep\", \"Oct\", \"Nov\", \"Dec\"])\n",
    "plt.show()"
   ]
  },
  {
   "cell_type": "code",
   "execution_count": null,
   "id": "a8422e0b-6ec4-4229-9965-75e5f72880c1",
   "metadata": {},
   "outputs": [],
   "source": []
  },
  {
   "cell_type": "code",
   "execution_count": null,
   "id": "7d37254e-ff2d-4e98-9835-7ab212ed0c87",
   "metadata": {},
   "outputs": [],
   "source": []
  },
  {
   "cell_type": "code",
   "execution_count": null,
   "id": "528dc071-6ba8-4743-8eed-6c908e3b0322",
   "metadata": {},
   "outputs": [],
   "source": []
  },
  {
   "cell_type": "code",
   "execution_count": null,
   "id": "df40ce03-a7ac-4113-a09e-e77973376ef2",
   "metadata": {},
   "outputs": [],
   "source": []
  },
  {
   "cell_type": "code",
   "execution_count": 61,
   "id": "79ced57a-d6ae-45f5-8a5d-7b957dfdbe3b",
   "metadata": {},
   "outputs": [
    {
     "data": {
      "text/html": [
       "<div>\n",
       "<style scoped>\n",
       "    .dataframe tbody tr th:only-of-type {\n",
       "        vertical-align: middle;\n",
       "    }\n",
       "\n",
       "    .dataframe tbody tr th {\n",
       "        vertical-align: top;\n",
       "    }\n",
       "\n",
       "    .dataframe thead th {\n",
       "        text-align: right;\n",
       "    }\n",
       "</style>\n",
       "<table border=\"1\" class=\"dataframe\">\n",
       "  <thead>\n",
       "    <tr style=\"text-align: right;\">\n",
       "      <th></th>\n",
       "      <th>ProductID</th>\n",
       "      <th>ProductName</th>\n",
       "      <th>Category</th>\n",
       "      <th>Price</th>\n",
       "    </tr>\n",
       "  </thead>\n",
       "  <tbody>\n",
       "    <tr>\n",
       "      <th>0</th>\n",
       "      <td>P001</td>\n",
       "      <td>ActiveWear Biography</td>\n",
       "      <td>Books</td>\n",
       "      <td>169.30</td>\n",
       "    </tr>\n",
       "    <tr>\n",
       "      <th>1</th>\n",
       "      <td>P002</td>\n",
       "      <td>ActiveWear Smartwatch</td>\n",
       "      <td>Electronics</td>\n",
       "      <td>346.30</td>\n",
       "    </tr>\n",
       "    <tr>\n",
       "      <th>2</th>\n",
       "      <td>P003</td>\n",
       "      <td>ComfortLiving Biography</td>\n",
       "      <td>Books</td>\n",
       "      <td>44.12</td>\n",
       "    </tr>\n",
       "    <tr>\n",
       "      <th>3</th>\n",
       "      <td>P004</td>\n",
       "      <td>BookWorld Rug</td>\n",
       "      <td>Home Decor</td>\n",
       "      <td>95.69</td>\n",
       "    </tr>\n",
       "    <tr>\n",
       "      <th>4</th>\n",
       "      <td>P005</td>\n",
       "      <td>TechPro T-Shirt</td>\n",
       "      <td>Clothing</td>\n",
       "      <td>429.31</td>\n",
       "    </tr>\n",
       "  </tbody>\n",
       "</table>\n",
       "</div>"
      ],
      "text/plain": [
       "  ProductID              ProductName     Category   Price\n",
       "0      P001     ActiveWear Biography        Books  169.30\n",
       "1      P002    ActiveWear Smartwatch  Electronics  346.30\n",
       "2      P003  ComfortLiving Biography        Books   44.12\n",
       "3      P004            BookWorld Rug   Home Decor   95.69\n",
       "4      P005          TechPro T-Shirt     Clothing  429.31"
      ]
     },
     "execution_count": 61,
     "metadata": {},
     "output_type": "execute_result"
    }
   ],
   "source": [
    "products.head()"
   ]
  },
  {
   "cell_type": "code",
   "execution_count": 62,
   "id": "c2bdbb9d-5bcc-4c50-8e42-3b8d33907b45",
   "metadata": {},
   "outputs": [
    {
     "name": "stdout",
     "output_type": "stream",
     "text": [
      "<class 'pandas.core.frame.DataFrame'>\n",
      "RangeIndex: 100 entries, 0 to 99\n",
      "Data columns (total 4 columns):\n",
      " #   Column       Non-Null Count  Dtype  \n",
      "---  ------       --------------  -----  \n",
      " 0   ProductID    100 non-null    object \n",
      " 1   ProductName  100 non-null    object \n",
      " 2   Category     100 non-null    object \n",
      " 3   Price        100 non-null    float64\n",
      "dtypes: float64(1), object(3)\n",
      "memory usage: 3.3+ KB\n"
     ]
    }
   ],
   "source": [
    "products.info()"
   ]
  },
  {
   "cell_type": "code",
   "execution_count": 63,
   "id": "decdddee-edf0-44cb-b877-07075c70e4f0",
   "metadata": {},
   "outputs": [
    {
     "data": {
      "text/html": [
       "<div>\n",
       "<style scoped>\n",
       "    .dataframe tbody tr th:only-of-type {\n",
       "        vertical-align: middle;\n",
       "    }\n",
       "\n",
       "    .dataframe tbody tr th {\n",
       "        vertical-align: top;\n",
       "    }\n",
       "\n",
       "    .dataframe thead th {\n",
       "        text-align: right;\n",
       "    }\n",
       "</style>\n",
       "<table border=\"1\" class=\"dataframe\">\n",
       "  <thead>\n",
       "    <tr style=\"text-align: right;\">\n",
       "      <th></th>\n",
       "      <th>Price</th>\n",
       "    </tr>\n",
       "  </thead>\n",
       "  <tbody>\n",
       "    <tr>\n",
       "      <th>count</th>\n",
       "      <td>100.000000</td>\n",
       "    </tr>\n",
       "    <tr>\n",
       "      <th>mean</th>\n",
       "      <td>267.551700</td>\n",
       "    </tr>\n",
       "    <tr>\n",
       "      <th>std</th>\n",
       "      <td>143.219383</td>\n",
       "    </tr>\n",
       "    <tr>\n",
       "      <th>min</th>\n",
       "      <td>16.080000</td>\n",
       "    </tr>\n",
       "    <tr>\n",
       "      <th>25%</th>\n",
       "      <td>147.767500</td>\n",
       "    </tr>\n",
       "    <tr>\n",
       "      <th>50%</th>\n",
       "      <td>292.875000</td>\n",
       "    </tr>\n",
       "    <tr>\n",
       "      <th>75%</th>\n",
       "      <td>397.090000</td>\n",
       "    </tr>\n",
       "    <tr>\n",
       "      <th>max</th>\n",
       "      <td>497.760000</td>\n",
       "    </tr>\n",
       "  </tbody>\n",
       "</table>\n",
       "</div>"
      ],
      "text/plain": [
       "            Price\n",
       "count  100.000000\n",
       "mean   267.551700\n",
       "std    143.219383\n",
       "min     16.080000\n",
       "25%    147.767500\n",
       "50%    292.875000\n",
       "75%    397.090000\n",
       "max    497.760000"
      ]
     },
     "execution_count": 63,
     "metadata": {},
     "output_type": "execute_result"
    }
   ],
   "source": [
    "# Descriptive statistics for Products dataset\n",
    "products.describe()"
   ]
  },
  {
   "cell_type": "code",
   "execution_count": 64,
   "id": "a8cc758d-9ed6-433e-a450-73dd7fa53f65",
   "metadata": {},
   "outputs": [
    {
     "name": "stdout",
     "output_type": "stream",
     "text": [
      "\n",
      "Duplicate Rows in Products Dataset:\n",
      "0\n"
     ]
    }
   ],
   "source": [
    "# checking for missing values and duplicates\n",
    "\n",
    "print(\"\\nDuplicate Rows in Products Dataset:\")\n",
    "print(products.duplicated().sum())\n"
   ]
  },
  {
   "cell_type": "code",
   "execution_count": 107,
   "id": "c4546d9f-b6ae-4e86-bbe2-ba5dc855ea57",
   "metadata": {},
   "outputs": [
    {
     "name": "stdout",
     "output_type": "stream",
     "text": [
      "\n",
      "Unique Values and Distribution for Categorical Columns:\n",
      "Category\n",
      "Books          26\n",
      "Electronics    26\n",
      "Clothing       25\n",
      "Home Decor     23\n",
      "Name: count, dtype: int64\n"
     ]
    }
   ],
   "source": [
    "#  Univariate Analysis\n",
    "\n",
    "# For categorical columns: 'ProductID', 'ProductName', 'Category'\n",
    "print(\"\\nUnique Values and Distribution for Categorical Columns:\")\n",
    "\n",
    "# Check unique values in 'Category'\n",
    "print(products['Category'].value_counts())\n"
   ]
  },
  {
   "cell_type": "code",
   "execution_count": 108,
   "id": "cae257da-1ab1-4413-9d9b-15121b10ddaf",
   "metadata": {},
   "outputs": [
    {
     "name": "stderr",
     "output_type": "stream",
     "text": [
      "C:\\Users\\acer\\anaconda3\\Lib\\site-packages\\seaborn\\_oldcore.py:1119: FutureWarning: use_inf_as_na option is deprecated and will be removed in a future version. Convert inf values to NaN before operating instead.\n",
      "  with pd.option_context('mode.use_inf_as_na', True):\n"
     ]
    },
    {
     "data": {
      "image/png": "[encoded data removed]",
      "text/plain": [
       "<Figure size 1000x600 with 1 Axes>"
      ]
     },
     "metadata": {},
     "output_type": "display_data"
    }
   ],
   "source": [
    "# Plot the distribution of 'Price'\n",
    "plt.figure(figsize=(10, 6))\n",
    "sns.histplot(products['Price'], color='teal', bins=10)\n",
    "plt.title('Price Distribution')\n",
    "plt.xlabel('Price')\n",
    "plt.ylabel('Count')\n",
    "plt.show()"
   ]
  },
  {
   "cell_type": "code",
   "execution_count": 67,
   "id": "0fb26d34-bc48-4cff-907d-31f051616ca3",
   "metadata": {},
   "outputs": [
    {
     "name": "stdout",
     "output_type": "stream",
     "text": [
      "\n",
      "Mode of Category Column:\n",
      "Books\n"
     ]
    }
   ],
   "source": [
    "print(\"\\nMode of Category Column:\")\n",
    "print(products['Category'].mode()[0])"
   ]
  },
  {
   "cell_type": "code",
   "execution_count": null,
   "id": "431ee287-2f83-456a-b500-e19a7e93a992",
   "metadata": {},
   "outputs": [],
   "source": []
  },
  {
   "cell_type": "code",
   "execution_count": null,
   "id": "42711f45-02b1-4c57-a56f-13c2768a258a",
   "metadata": {},
   "outputs": [],
   "source": []
  },
  {
   "cell_type": "code",
   "execution_count": null,
   "id": "a380f6b1-fed3-4cfe-8921-bf2db6899c80",
   "metadata": {},
   "outputs": [],
   "source": []
  },
  {
   "cell_type": "code",
   "execution_count": 68,
   "id": "c9e83e13-9d2c-4258-afab-d7f59854b28d",
   "metadata": {},
   "outputs": [
    {
     "name": "stdout",
     "output_type": "stream",
     "text": [
      "\n",
      "Transactions Dataset:\n"
     ]
    },
    {
     "data": {
      "text/html": [
       "<div>\n",
       "<style scoped>\n",
       "    .dataframe tbody tr th:only-of-type {\n",
       "        vertical-align: middle;\n",
       "    }\n",
       "\n",
       "    .dataframe tbody tr th {\n",
       "        vertical-align: top;\n",
       "    }\n",
       "\n",
       "    .dataframe thead th {\n",
       "        text-align: right;\n",
       "    }\n",
       "</style>\n",
       "<table border=\"1\" class=\"dataframe\">\n",
       "  <thead>\n",
       "    <tr style=\"text-align: right;\">\n",
       "      <th></th>\n",
       "      <th>TransactionID</th>\n",
       "      <th>CustomerID</th>\n",
       "      <th>ProductID</th>\n",
       "      <th>TransactionDate</th>\n",
       "      <th>Quantity</th>\n",
       "      <th>TotalValue</th>\n",
       "      <th>Price</th>\n",
       "    </tr>\n",
       "  </thead>\n",
       "  <tbody>\n",
       "    <tr>\n",
       "      <th>0</th>\n",
       "      <td>T00001</td>\n",
       "      <td>C0199</td>\n",
       "      <td>P067</td>\n",
       "      <td>2024-08-25 12:38:23</td>\n",
       "      <td>1</td>\n",
       "      <td>300.68</td>\n",
       "      <td>300.68</td>\n",
       "    </tr>\n",
       "    <tr>\n",
       "      <th>1</th>\n",
       "      <td>T00112</td>\n",
       "      <td>C0146</td>\n",
       "      <td>P067</td>\n",
       "      <td>2024-05-27 22:23:54</td>\n",
       "      <td>1</td>\n",
       "      <td>300.68</td>\n",
       "      <td>300.68</td>\n",
       "    </tr>\n",
       "    <tr>\n",
       "      <th>2</th>\n",
       "      <td>T00166</td>\n",
       "      <td>C0127</td>\n",
       "      <td>P067</td>\n",
       "      <td>2024-04-25 07:38:55</td>\n",
       "      <td>1</td>\n",
       "      <td>300.68</td>\n",
       "      <td>300.68</td>\n",
       "    </tr>\n",
       "    <tr>\n",
       "      <th>3</th>\n",
       "      <td>T00272</td>\n",
       "      <td>C0087</td>\n",
       "      <td>P067</td>\n",
       "      <td>2024-03-26 22:55:37</td>\n",
       "      <td>2</td>\n",
       "      <td>601.36</td>\n",
       "      <td>300.68</td>\n",
       "    </tr>\n",
       "    <tr>\n",
       "      <th>4</th>\n",
       "      <td>T00363</td>\n",
       "      <td>C0070</td>\n",
       "      <td>P067</td>\n",
       "      <td>2024-03-21 15:10:10</td>\n",
       "      <td>3</td>\n",
       "      <td>902.04</td>\n",
       "      <td>300.68</td>\n",
       "    </tr>\n",
       "  </tbody>\n",
       "</table>\n",
       "</div>"
      ],
      "text/plain": [
       "  TransactionID CustomerID ProductID      TransactionDate  Quantity  \\\n",
       "0        T00001      C0199      P067  2024-08-25 12:38:23         1   \n",
       "1        T00112      C0146      P067  2024-05-27 22:23:54         1   \n",
       "2        T00166      C0127      P067  2024-04-25 07:38:55         1   \n",
       "3        T00272      C0087      P067  2024-03-26 22:55:37         2   \n",
       "4        T00363      C0070      P067  2024-03-21 15:10:10         3   \n",
       "\n",
       "   TotalValue   Price  \n",
       "0      300.68  300.68  \n",
       "1      300.68  300.68  \n",
       "2      300.68  300.68  \n",
       "3      601.36  300.68  \n",
       "4      902.04  300.68  "
      ]
     },
     "execution_count": 68,
     "metadata": {},
     "output_type": "execute_result"
    }
   ],
   "source": [
    "print(\"\\nTransactions Dataset:\")\n",
    "transactions.head()"
   ]
  },
  {
   "cell_type": "code",
   "execution_count": 69,
   "id": "374e7409-1398-457d-a663-7b570033bf17",
   "metadata": {},
   "outputs": [
    {
     "name": "stdout",
     "output_type": "stream",
     "text": [
      "<class 'pandas.core.frame.DataFrame'>\n",
      "RangeIndex: 1000 entries, 0 to 999\n",
      "Data columns (total 7 columns):\n",
      " #   Column           Non-Null Count  Dtype  \n",
      "---  ------           --------------  -----  \n",
      " 0   TransactionID    1000 non-null   object \n",
      " 1   CustomerID       1000 non-null   object \n",
      " 2   ProductID        1000 non-null   object \n",
      " 3   TransactionDate  1000 non-null   object \n",
      " 4   Quantity         1000 non-null   int64  \n",
      " 5   TotalValue       1000 non-null   float64\n",
      " 6   Price            1000 non-null   float64\n",
      "dtypes: float64(2), int64(1), object(4)\n",
      "memory usage: 54.8+ KB\n"
     ]
    }
   ],
   "source": [
    "transactions.info()"
   ]
  },
  {
   "cell_type": "code",
   "execution_count": 79,
   "id": "e78b48fd-4889-4ea5-b0d2-fb6f96a94c5a",
   "metadata": {},
   "outputs": [
    {
     "data": {
      "text/html": [
       "<div>\n",
       "<style scoped>\n",
       "    .dataframe tbody tr th:only-of-type {\n",
       "        vertical-align: middle;\n",
       "    }\n",
       "\n",
       "    .dataframe tbody tr th {\n",
       "        vertical-align: top;\n",
       "    }\n",
       "\n",
       "    .dataframe thead th {\n",
       "        text-align: right;\n",
       "    }\n",
       "</style>\n",
       "<table border=\"1\" class=\"dataframe\">\n",
       "  <thead>\n",
       "    <tr style=\"text-align: right;\">\n",
       "      <th></th>\n",
       "      <th>SignupDate</th>\n",
       "      <th>SignupYear</th>\n",
       "      <th>SignupMonth</th>\n",
       "      <th>SignupDay</th>\n",
       "    </tr>\n",
       "  </thead>\n",
       "  <tbody>\n",
       "    <tr>\n",
       "      <th>count</th>\n",
       "      <td>200</td>\n",
       "      <td>200.000000</td>\n",
       "      <td>200.000000</td>\n",
       "      <td>200.000000</td>\n",
       "    </tr>\n",
       "    <tr>\n",
       "      <th>mean</th>\n",
       "      <td>2023-07-19 08:31:12</td>\n",
       "      <td>2023.075000</td>\n",
       "      <td>6.225000</td>\n",
       "      <td>14.510000</td>\n",
       "    </tr>\n",
       "    <tr>\n",
       "      <th>min</th>\n",
       "      <td>2022-01-22 00:00:00</td>\n",
       "      <td>2022.000000</td>\n",
       "      <td>1.000000</td>\n",
       "      <td>1.000000</td>\n",
       "    </tr>\n",
       "    <tr>\n",
       "      <th>25%</th>\n",
       "      <td>2022-09-26 12:00:00</td>\n",
       "      <td>2022.000000</td>\n",
       "      <td>3.000000</td>\n",
       "      <td>7.000000</td>\n",
       "    </tr>\n",
       "    <tr>\n",
       "      <th>50%</th>\n",
       "      <td>2023-08-31 12:00:00</td>\n",
       "      <td>2023.000000</td>\n",
       "      <td>6.000000</td>\n",
       "      <td>14.000000</td>\n",
       "    </tr>\n",
       "    <tr>\n",
       "      <th>75%</th>\n",
       "      <td>2024-04-12 12:00:00</td>\n",
       "      <td>2024.000000</td>\n",
       "      <td>9.000000</td>\n",
       "      <td>21.000000</td>\n",
       "    </tr>\n",
       "    <tr>\n",
       "      <th>max</th>\n",
       "      <td>2024-12-28 00:00:00</td>\n",
       "      <td>2024.000000</td>\n",
       "      <td>12.000000</td>\n",
       "      <td>31.000000</td>\n",
       "    </tr>\n",
       "    <tr>\n",
       "      <th>std</th>\n",
       "      <td>NaN</td>\n",
       "      <td>0.844358</td>\n",
       "      <td>3.486424</td>\n",
       "      <td>8.056952</td>\n",
       "    </tr>\n",
       "  </tbody>\n",
       "</table>\n",
       "</div>"
      ],
      "text/plain": [
       "                SignupDate   SignupYear  SignupMonth   SignupDay\n",
       "count                  200   200.000000   200.000000  200.000000\n",
       "mean   2023-07-19 08:31:12  2023.075000     6.225000   14.510000\n",
       "min    2022-01-22 00:00:00  2022.000000     1.000000    1.000000\n",
       "25%    2022-09-26 12:00:00  2022.000000     3.000000    7.000000\n",
       "50%    2023-08-31 12:00:00  2023.000000     6.000000   14.000000\n",
       "75%    2024-04-12 12:00:00  2024.000000     9.000000   21.000000\n",
       "max    2024-12-28 00:00:00  2024.000000    12.000000   31.000000\n",
       "std                    NaN     0.844358     3.486424    8.056952"
      ]
     },
     "execution_count": 79,
     "metadata": {},
     "output_type": "execute_result"
    }
   ],
   "source": [
    "customers.describe()"
   ]
  },
  {
   "cell_type": "code",
   "execution_count": 80,
   "id": "b88ab5ea-def2-40c4-9746-1f78951a07dc",
   "metadata": {},
   "outputs": [],
   "source": [
    "# Convert 'TransactionDate' to datetime\n",
    "transactions['TransactionDate'] = pd.to_datetime(transactions['TransactionDate'])"
   ]
  },
  {
   "cell_type": "code",
   "execution_count": null,
   "id": "609fd14d-0085-4ca8-98fe-d45187dc83e5",
   "metadata": {},
   "outputs": [],
   "source": []
  },
  {
   "cell_type": "code",
   "execution_count": 96,
   "id": "591c969e-bd17-4161-81a1-94b5a5fb3c7b",
   "metadata": {},
   "outputs": [
    {
     "name": "stderr",
     "output_type": "stream",
     "text": [
      "C:\\Users\\acer\\anaconda3\\Lib\\site-packages\\seaborn\\_oldcore.py:1119: FutureWarning: use_inf_as_na option is deprecated and will be removed in a future version. Convert inf values to NaN before operating instead.\n",
      "  with pd.option_context('mode.use_inf_as_na', True):\n"
     ]
    },
    {
     "data": {
      "image/png": "[encoded data removed]",
      "text/plain": [
       "<Figure size 1000x600 with 1 Axes>"
      ]
     },
     "metadata": {},
     "output_type": "display_data"
    }
   ],
   "source": [
    "# Plot the distribution of 'TotalValue'\n",
    "plt.figure(figsize=(10, 6))\n",
    "sns.histplot(transactions['TotalValue'], kde=True, color='orange', bins=20)\n",
    "plt.title('TotalValue Distribution')\n",
    "plt.xlabel('TotalValue')\n",
    "plt.ylabel('Count')\n",
    "plt.show()"
   ]
  },
  {
   "cell_type": "markdown",
   "id": "a17b06cd-fb02-4e17-8a88-30dc792e30d5",
   "metadata": {},
   "source": [
    "Now i am going to merge the dataset so that we can able to find the best Business insights\r\n",
    "y purchases."
   ]
  },
  {
   "cell_type": "code",
   "execution_count": 78,
   "id": "5e768f0d-0cd8-4ffd-8437-fd43a80a0cdd",
   "metadata": {},
   "outputs": [],
   "source": [
    "df_merge = pd.merge(transactions, customers, on='CustomerID', how='inner')\n",
    "df_merge = pd.merge(df_merge, products, on='ProductID', how='inner')"
   ]
  },
  {
   "cell_type": "code",
   "execution_count": 114,
   "id": "8a590a41-0d87-4758-8447-106d46735989",
   "metadata": {},
   "outputs": [
    {
     "data": {
      "text/html": [
       "<div>\n",
       "<style scoped>\n",
       "    .dataframe tbody tr th:only-of-type {\n",
       "        vertical-align: middle;\n",
       "    }\n",
       "\n",
       "    .dataframe tbody tr th {\n",
       "        vertical-align: top;\n",
       "    }\n",
       "\n",
       "    .dataframe thead th {\n",
       "        text-align: right;\n",
       "    }\n",
       "</style>\n",
       "<table border=\"1\" class=\"dataframe\">\n",
       "  <thead>\n",
       "    <tr style=\"text-align: right;\">\n",
       "      <th></th>\n",
       "      <th>TransactionID</th>\n",
       "      <th>CustomerID</th>\n",
       "      <th>ProductID</th>\n",
       "      <th>TransactionDate</th>\n",
       "      <th>Quantity</th>\n",
       "      <th>TotalValue</th>\n",
       "      <th>Price_x</th>\n",
       "      <th>CustomerName</th>\n",
       "      <th>Region</th>\n",
       "      <th>SignupDate</th>\n",
       "      <th>SignupYear</th>\n",
       "      <th>SignupMonth</th>\n",
       "      <th>SignupDay</th>\n",
       "      <th>ProductName</th>\n",
       "      <th>Category</th>\n",
       "      <th>Price_y</th>\n",
       "    </tr>\n",
       "  </thead>\n",
       "  <tbody>\n",
       "    <tr>\n",
       "      <th>0</th>\n",
       "      <td>T00001</td>\n",
       "      <td>C0199</td>\n",
       "      <td>P067</td>\n",
       "      <td>2024-08-25 12:38:23</td>\n",
       "      <td>1</td>\n",
       "      <td>300.68</td>\n",
       "      <td>300.68</td>\n",
       "      <td>Andrea Jenkins</td>\n",
       "      <td>Europe</td>\n",
       "      <td>2022-12-03</td>\n",
       "      <td>2022</td>\n",
       "      <td>12</td>\n",
       "      <td>3</td>\n",
       "      <td>ComfortLiving Bluetooth Speaker</td>\n",
       "      <td>Electronics</td>\n",
       "      <td>300.68</td>\n",
       "    </tr>\n",
       "    <tr>\n",
       "      <th>1</th>\n",
       "      <td>T00112</td>\n",
       "      <td>C0146</td>\n",
       "      <td>P067</td>\n",
       "      <td>2024-05-27 22:23:54</td>\n",
       "      <td>1</td>\n",
       "      <td>300.68</td>\n",
       "      <td>300.68</td>\n",
       "      <td>Brittany Harvey</td>\n",
       "      <td>Asia</td>\n",
       "      <td>2024-09-04</td>\n",
       "      <td>2024</td>\n",
       "      <td>9</td>\n",
       "      <td>4</td>\n",
       "      <td>ComfortLiving Bluetooth Speaker</td>\n",
       "      <td>Electronics</td>\n",
       "      <td>300.68</td>\n",
       "    </tr>\n",
       "    <tr>\n",
       "      <th>2</th>\n",
       "      <td>T00166</td>\n",
       "      <td>C0127</td>\n",
       "      <td>P067</td>\n",
       "      <td>2024-04-25 07:38:55</td>\n",
       "      <td>1</td>\n",
       "      <td>300.68</td>\n",
       "      <td>300.68</td>\n",
       "      <td>Kathryn Stevens</td>\n",
       "      <td>Europe</td>\n",
       "      <td>2024-04-04</td>\n",
       "      <td>2024</td>\n",
       "      <td>4</td>\n",
       "      <td>4</td>\n",
       "      <td>ComfortLiving Bluetooth Speaker</td>\n",
       "      <td>Electronics</td>\n",
       "      <td>300.68</td>\n",
       "    </tr>\n",
       "    <tr>\n",
       "      <th>3</th>\n",
       "      <td>T00272</td>\n",
       "      <td>C0087</td>\n",
       "      <td>P067</td>\n",
       "      <td>2024-03-26 22:55:37</td>\n",
       "      <td>2</td>\n",
       "      <td>601.36</td>\n",
       "      <td>300.68</td>\n",
       "      <td>Travis Campbell</td>\n",
       "      <td>South America</td>\n",
       "      <td>2024-04-11</td>\n",
       "      <td>2024</td>\n",
       "      <td>4</td>\n",
       "      <td>11</td>\n",
       "      <td>ComfortLiving Bluetooth Speaker</td>\n",
       "      <td>Electronics</td>\n",
       "      <td>300.68</td>\n",
       "    </tr>\n",
       "    <tr>\n",
       "      <th>4</th>\n",
       "      <td>T00363</td>\n",
       "      <td>C0070</td>\n",
       "      <td>P067</td>\n",
       "      <td>2024-03-21 15:10:10</td>\n",
       "      <td>3</td>\n",
       "      <td>902.04</td>\n",
       "      <td>300.68</td>\n",
       "      <td>Timothy Perez</td>\n",
       "      <td>Europe</td>\n",
       "      <td>2022-03-15</td>\n",
       "      <td>2022</td>\n",
       "      <td>3</td>\n",
       "      <td>15</td>\n",
       "      <td>ComfortLiving Bluetooth Speaker</td>\n",
       "      <td>Electronics</td>\n",
       "      <td>300.68</td>\n",
       "    </tr>\n",
       "    <tr>\n",
       "      <th>...</th>\n",
       "      <td>...</td>\n",
       "      <td>...</td>\n",
       "      <td>...</td>\n",
       "      <td>...</td>\n",
       "      <td>...</td>\n",
       "      <td>...</td>\n",
       "      <td>...</td>\n",
       "      <td>...</td>\n",
       "      <td>...</td>\n",
       "      <td>...</td>\n",
       "      <td>...</td>\n",
       "      <td>...</td>\n",
       "      <td>...</td>\n",
       "      <td>...</td>\n",
       "      <td>...</td>\n",
       "      <td>...</td>\n",
       "    </tr>\n",
       "    <tr>\n",
       "      <th>995</th>\n",
       "      <td>T00630</td>\n",
       "      <td>C0031</td>\n",
       "      <td>P093</td>\n",
       "      <td>2024-10-08 23:58:14</td>\n",
       "      <td>2</td>\n",
       "      <td>609.88</td>\n",
       "      <td>304.94</td>\n",
       "      <td>Tina Miller</td>\n",
       "      <td>South America</td>\n",
       "      <td>2024-04-11</td>\n",
       "      <td>2024</td>\n",
       "      <td>4</td>\n",
       "      <td>11</td>\n",
       "      <td>TechPro Vase</td>\n",
       "      <td>Home Decor</td>\n",
       "      <td>304.94</td>\n",
       "    </tr>\n",
       "    <tr>\n",
       "      <th>996</th>\n",
       "      <td>T00672</td>\n",
       "      <td>C0165</td>\n",
       "      <td>P044</td>\n",
       "      <td>2024-07-28 00:09:49</td>\n",
       "      <td>4</td>\n",
       "      <td>75.28</td>\n",
       "      <td>18.82</td>\n",
       "      <td>Juan Mcdaniel</td>\n",
       "      <td>South America</td>\n",
       "      <td>2022-04-09</td>\n",
       "      <td>2022</td>\n",
       "      <td>4</td>\n",
       "      <td>9</td>\n",
       "      <td>ActiveWear Running Shoes</td>\n",
       "      <td>Clothing</td>\n",
       "      <td>18.82</td>\n",
       "    </tr>\n",
       "    <tr>\n",
       "      <th>997</th>\n",
       "      <td>T00711</td>\n",
       "      <td>C0165</td>\n",
       "      <td>P044</td>\n",
       "      <td>2024-06-11 15:51:14</td>\n",
       "      <td>4</td>\n",
       "      <td>75.28</td>\n",
       "      <td>18.82</td>\n",
       "      <td>Juan Mcdaniel</td>\n",
       "      <td>South America</td>\n",
       "      <td>2022-04-09</td>\n",
       "      <td>2022</td>\n",
       "      <td>4</td>\n",
       "      <td>9</td>\n",
       "      <td>ActiveWear Running Shoes</td>\n",
       "      <td>Clothing</td>\n",
       "      <td>18.82</td>\n",
       "    </tr>\n",
       "    <tr>\n",
       "      <th>998</th>\n",
       "      <td>T00878</td>\n",
       "      <td>C0165</td>\n",
       "      <td>P044</td>\n",
       "      <td>2024-09-24 21:15:21</td>\n",
       "      <td>3</td>\n",
       "      <td>56.46</td>\n",
       "      <td>18.82</td>\n",
       "      <td>Juan Mcdaniel</td>\n",
       "      <td>South America</td>\n",
       "      <td>2022-04-09</td>\n",
       "      <td>2022</td>\n",
       "      <td>4</td>\n",
       "      <td>9</td>\n",
       "      <td>ActiveWear Running Shoes</td>\n",
       "      <td>Clothing</td>\n",
       "      <td>18.82</td>\n",
       "    </tr>\n",
       "    <tr>\n",
       "      <th>999</th>\n",
       "      <td>T00157</td>\n",
       "      <td>C0169</td>\n",
       "      <td>P044</td>\n",
       "      <td>2024-11-09 09:07:36</td>\n",
       "      <td>2</td>\n",
       "      <td>37.64</td>\n",
       "      <td>18.82</td>\n",
       "      <td>Jennifer Shaw</td>\n",
       "      <td>South America</td>\n",
       "      <td>2023-04-13</td>\n",
       "      <td>2023</td>\n",
       "      <td>4</td>\n",
       "      <td>13</td>\n",
       "      <td>ActiveWear Running Shoes</td>\n",
       "      <td>Clothing</td>\n",
       "      <td>18.82</td>\n",
       "    </tr>\n",
       "  </tbody>\n",
       "</table>\n",
       "<p>1000 rows × 16 columns</p>\n",
       "</div>"
      ],
      "text/plain": [
       "    TransactionID CustomerID ProductID     TransactionDate  Quantity  \\\n",
       "0          T00001      C0199      P067 2024-08-25 12:38:23         1   \n",
       "1          T00112      C0146      P067 2024-05-27 22:23:54         1   \n",
       "2          T00166      C0127      P067 2024-04-25 07:38:55         1   \n",
       "3          T00272      C0087      P067 2024-03-26 22:55:37         2   \n",
       "4          T00363      C0070      P067 2024-03-21 15:10:10         3   \n",
       "..            ...        ...       ...                 ...       ...   \n",
       "995        T00630      C0031      P093 2024-10-08 23:58:14         2   \n",
       "996        T00672      C0165      P044 2024-07-28 00:09:49         4   \n",
       "997        T00711      C0165      P044 2024-06-11 15:51:14         4   \n",
       "998        T00878      C0165      P044 2024-09-24 21:15:21         3   \n",
       "999        T00157      C0169      P044 2024-11-09 09:07:36         2   \n",
       "\n",
       "     TotalValue  Price_x     CustomerName         Region SignupDate  \\\n",
       "0        300.68   300.68   Andrea Jenkins         Europe 2022-12-03   \n",
       "1        300.68   300.68  Brittany Harvey           Asia 2024-09-04   \n",
       "2        300.68   300.68  Kathryn Stevens         Europe 2024-04-04   \n",
       "3        601.36   300.68  Travis Campbell  South America 2024-04-11   \n",
       "4        902.04   300.68    Timothy Perez         Europe 2022-03-15   \n",
       "..          ...      ...              ...            ...        ...   \n",
       "995      609.88   304.94      Tina Miller  South America 2024-04-11   \n",
       "996       75.28    18.82    Juan Mcdaniel  South America 2022-04-09   \n",
       "997       75.28    18.82    Juan Mcdaniel  South America 2022-04-09   \n",
       "998       56.46    18.82    Juan Mcdaniel  South America 2022-04-09   \n",
       "999       37.64    18.82    Jennifer Shaw  South America 2023-04-13   \n",
       "\n",
       "     SignupYear  SignupMonth  SignupDay                      ProductName  \\\n",
       "0          2022           12          3  ComfortLiving Bluetooth Speaker   \n",
       "1          2024            9          4  ComfortLiving Bluetooth Speaker   \n",
       "2          2024            4          4  ComfortLiving Bluetooth Speaker   \n",
       "3          2024            4         11  ComfortLiving Bluetooth Speaker   \n",
       "4          2022            3         15  ComfortLiving Bluetooth Speaker   \n",
       "..          ...          ...        ...                              ...   \n",
       "995        2024            4         11                     TechPro Vase   \n",
       "996        2022            4          9         ActiveWear Running Shoes   \n",
       "997        2022            4          9         ActiveWear Running Shoes   \n",
       "998        2022            4          9         ActiveWear Running Shoes   \n",
       "999        2023            4         13         ActiveWear Running Shoes   \n",
       "\n",
       "        Category  Price_y  \n",
       "0    Electronics   300.68  \n",
       "1    Electronics   300.68  \n",
       "2    Electronics   300.68  \n",
       "3    Electronics   300.68  \n",
       "4    Electronics   300.68  \n",
       "..           ...      ...  \n",
       "995   Home Decor   304.94  \n",
       "996     Clothing    18.82  \n",
       "997     Clothing    18.82  \n",
       "998     Clothing    18.82  \n",
       "999     Clothing    18.82  \n",
       "\n",
       "[1000 rows x 16 columns]"
      ]
     },
     "execution_count": 114,
     "metadata": {},
     "output_type": "execute_result"
    }
   ],
   "source": [
    "df_merge"
   ]
  },
  {
   "cell_type": "code",
   "execution_count": 118,
   "id": "31675c8c-f52a-453b-a804-7540453ab095",
   "metadata": {},
   "outputs": [
    {
     "name": "stdout",
     "output_type": "stream",
     "text": [
      "Top 7 Most Bought Products:\n",
      "  ProductID            ProductName     Category  Quantity\n",
      "0      P059        SoundWave Jeans     Clothing        46\n",
      "1      P054     SoundWave Cookbook        Books        46\n",
      "2      P029     TechPro Headphones  Electronics        45\n",
      "3      P079         ActiveWear Rug   Home Decor        43\n",
      "4      P061    HomeSense Desk Lamp   Home Decor        43\n",
      "5      P057  ActiveWear Smartphone  Electronics        43\n",
      "6      P048       TechPro Cookbook        Books        43\n"
     ]
    }
   ],
   "source": [
    "# top 7 most bought products\n",
    "top_7_products = (\n",
    "    df_merge.groupby('ProductID')['Quantity']\n",
    "    .sum()\n",
    "    .reset_index()\n",
    "    .sort_values(by='Quantity', ascending=False)\n",
    "    .merge(products, on='ProductID')\n",
    "    .head(7)\n",
    ")\n",
    "\n",
    "print(\"Top 7 Most Bought Products:\")\n",
    "print(top_5_products[['ProductID', 'ProductName', 'Category', 'Quantity']])\n"
   ]
  },
  {
   "cell_type": "code",
   "execution_count": 117,
   "id": "c920705c-bb8e-4a2b-bb75-2771ae07aa4c",
   "metadata": {},
   "outputs": [
    {
     "name": "stdout",
     "output_type": "stream",
     "text": [
      "Most Bought Categories:\n",
      "      Category  Quantity\n",
      "0        Books       681\n",
      "3   Home Decor       639\n",
      "2  Electronics       627\n",
      "1     Clothing       590\n"
     ]
    }
   ],
   "source": [
    "# most bought categories\n",
    "most_bought_categories = (\n",
    "    df_merge.groupby('Category')['Quantity']\n",
    "    .sum()\n",
    "    .reset_index()\n",
    "    .sort_values(by='Quantity', ascending=False)\n",
    ")\n",
    "\n",
    "# Print the top categories\n",
    "print(\"Most Bought Categories:\")\n",
    "print(most_bought_categories)\n"
   ]
  },
  {
   "cell_type": "code",
   "execution_count": 125,
   "id": "f34c6514-e555-47ef-833c-b63b6e3184f0",
   "metadata": {},
   "outputs": [
    {
     "name": "stdout",
     "output_type": "stream",
     "text": [
      "Most Expensive Product:\n"
     ]
    },
    {
     "data": {
      "text/plain": [
       "ProductID                  P075\n",
       "ProductName    TechPro Textbook\n",
       "Category                  Books\n",
       "Price_y                  497.76\n",
       "Name: 240, dtype: object"
      ]
     },
     "execution_count": 125,
     "metadata": {},
     "output_type": "execute_result"
    }
   ],
   "source": [
    "most_expensive = df_merge.loc[df_merge['Price_y'].idxmax()]\n",
    "\n",
    "print(\"Most Expensive Product:\")\n",
    "most_expensive[['ProductID', 'ProductName', 'Category', 'Price_y']]"
   ]
  },
  {
   "cell_type": "code",
   "execution_count": 126,
   "id": "dd8fe814-85dd-4e7e-8f3b-21a81e502f17",
   "metadata": {},
   "outputs": [
    {
     "name": "stdout",
     "output_type": "stream",
     "text": [
      "\n",
      "Least Expensive Product:\n"
     ]
    },
    {
     "data": {
      "text/plain": [
       "ProductID                      P056\n",
       "ProductName    SoundWave Smartwatch\n",
       "Category                Electronics\n",
       "Price_y                       16.08\n",
       "Name: 751, dtype: object"
      ]
     },
     "execution_count": 126,
     "metadata": {},
     "output_type": "execute_result"
    }
   ],
   "source": [
    "least_expensive = df_merge.loc[df_merge['Price_y'].idxmin()]\n",
    "\n",
    "print(\"\\nLeast Expensive Product:\")\n",
    "least_expensive[['ProductID', 'ProductName', 'Category', 'Price_y']]"
   ]
  },
  {
   "cell_type": "code",
   "execution_count": 131,
   "id": "0c6aa1d9-36c7-4f6e-a1dd-20d4ae6a5e7b",
   "metadata": {},
   "outputs": [
    {
     "name": "stdout",
     "output_type": "stream",
     "text": [
      "\n",
      "Average Cost for Each Category:\n"
     ]
    },
    {
     "data": {
      "text/html": [
       "<div>\n",
       "<style scoped>\n",
       "    .dataframe tbody tr th:only-of-type {\n",
       "        vertical-align: middle;\n",
       "    }\n",
       "\n",
       "    .dataframe tbody tr th {\n",
       "        vertical-align: top;\n",
       "    }\n",
       "\n",
       "    .dataframe thead th {\n",
       "        text-align: right;\n",
       "    }\n",
       "</style>\n",
       "<table border=\"1\" class=\"dataframe\">\n",
       "  <thead>\n",
       "    <tr style=\"text-align: right;\">\n",
       "      <th></th>\n",
       "      <th>Category</th>\n",
       "      <th>Price_y</th>\n",
       "    </tr>\n",
       "  </thead>\n",
       "  <tbody>\n",
       "    <tr>\n",
       "      <th>2</th>\n",
       "      <td>Electronics</td>\n",
       "      <td>288.722008</td>\n",
       "    </tr>\n",
       "    <tr>\n",
       "      <th>1</th>\n",
       "      <td>Clothing</td>\n",
       "      <td>283.104254</td>\n",
       "    </tr>\n",
       "    <tr>\n",
       "      <th>0</th>\n",
       "      <td>Books</td>\n",
       "      <td>280.526222</td>\n",
       "    </tr>\n",
       "    <tr>\n",
       "      <th>3</th>\n",
       "      <td>Home Decor</td>\n",
       "      <td>237.616250</td>\n",
       "    </tr>\n",
       "  </tbody>\n",
       "</table>\n",
       "</div>"
      ],
      "text/plain": [
       "      Category     Price_y\n",
       "2  Electronics  288.722008\n",
       "1     Clothing  283.104254\n",
       "0        Books  280.526222\n",
       "3   Home Decor  237.616250"
      ]
     },
     "execution_count": 131,
     "metadata": {},
     "output_type": "execute_result"
    }
   ],
   "source": [
    "# average cost for each Category\n",
    "avg_cost_per_product = (\n",
    "    df_merge.groupby('Category')['Price_y']\n",
    "    .mean()\n",
    "    .reset_index()\n",
    "    .sort_values(by='Price_y', ascending=False)\n",
    ")\n",
    "\n",
    "print(\"\\nAverage Cost for Each Category:\")\n",
    "avg_cost_per_product"
   ]
  },
  {
   "cell_type": "code",
   "execution_count": null,
   "id": "9277b9d0-f714-45dc-91aa-e38e4f424c5e",
   "metadata": {},
   "outputs": [],
   "source": []
  }
 ],
 "metadata": {
  "kernelspec": {
   "display_name": "Python 3 (ipykernel)",
   "language": "python",
   "name": "python3"
  },
  "language_info": {
   "codemirror_mode": {
    "name": "ipython",
    "version": 3
   },
   "file_extension": ".py",
   "mimetype": "text/x-python",
   "name": "python",
   "nbconvert_exporter": "python",
   "pygments_lexer": "ipython3",
   "version": "3.11.7"
  }
 },
 "nbformat": 4,
 "nbformat_minor": 5
}
