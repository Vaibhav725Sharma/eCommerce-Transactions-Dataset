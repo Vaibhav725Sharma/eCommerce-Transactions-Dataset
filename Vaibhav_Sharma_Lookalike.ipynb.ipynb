{
 "cells": [
  {
   "cell_type": "markdown",
   "id": "cd10fb0d-36ae-48b2-900d-a7c229ec15c1",
   "metadata": {},
   "source": [
    "\n"
   ]
  },
  {
   "cell_type": "code",
   "execution_count": 1,
   "id": "3eea4fea-184e-4995-8965-f0f336887298",
   "metadata": {},
   "outputs": [],
   "source": [
    "import pandas as pd\n",
    "import seaborn as sns\n",
    "import matplotlib.pyplot as plt\n",
    "from sklearn.preprocessing import LabelEncoder, StandardScaler\n",
    "from sklearn.metrics.pairwise import cosine_similarity"
   ]
  },
  {
   "cell_type": "code",
   "execution_count": 2,
   "id": "cb4469f8-289e-498f-8fcc-98347832c11a",
   "metadata": {},
   "outputs": [],
   "source": [
    "customers = pd.read_csv('Customers.csv')\n",
    "products = pd.read_csv('Products.csv')\n",
    "transactions = pd.read_csv('Transactions.csv')"
   ]
  },
  {
   "cell_type": "code",
   "execution_count": 3,
   "id": "855cf593-d4ad-4df6-b220-49a504597f7c",
   "metadata": {},
   "outputs": [
    {
     "data": {
      "text/html": [
       "<div>\n",
       "<style scoped>\n",
       "    .dataframe tbody tr th:only-of-type {\n",
       "        vertical-align: middle;\n",
       "    }\n",
       "\n",
       "    .dataframe tbody tr th {\n",
       "        vertical-align: top;\n",
       "    }\n",
       "\n",
       "    .dataframe thead th {\n",
       "        text-align: right;\n",
       "    }\n",
       "</style>\n",
       "<table border=\"1\" class=\"dataframe\">\n",
       "  <thead>\n",
       "    <tr style=\"text-align: right;\">\n",
       "      <th></th>\n",
       "      <th>CustomerID</th>\n",
       "      <th>CustomerName</th>\n",
       "      <th>Region</th>\n",
       "      <th>SignupDate</th>\n",
       "    </tr>\n",
       "  </thead>\n",
       "  <tbody>\n",
       "    <tr>\n",
       "      <th>0</th>\n",
       "      <td>C0001</td>\n",
       "      <td>Lawrence Carroll</td>\n",
       "      <td>South America</td>\n",
       "      <td>2022-07-10</td>\n",
       "    </tr>\n",
       "  </tbody>\n",
       "</table>\n",
       "</div>"
      ],
      "text/plain": [
       "  CustomerID      CustomerName         Region  SignupDate\n",
       "0      C0001  Lawrence Carroll  South America  2022-07-10"
      ]
     },
     "execution_count": 3,
     "metadata": {},
     "output_type": "execute_result"
    }
   ],
   "source": [
    "customers.head(1)"
   ]
  },
  {
   "cell_type": "code",
   "execution_count": 4,
   "id": "c9b1b373-998a-473f-8fdc-f0f8afb084bd",
   "metadata": {},
   "outputs": [
    {
     "data": {
      "text/html": [
       "<div>\n",
       "<style scoped>\n",
       "    .dataframe tbody tr th:only-of-type {\n",
       "        vertical-align: middle;\n",
       "    }\n",
       "\n",
       "    .dataframe tbody tr th {\n",
       "        vertical-align: top;\n",
       "    }\n",
       "\n",
       "    .dataframe thead th {\n",
       "        text-align: right;\n",
       "    }\n",
       "</style>\n",
       "<table border=\"1\" class=\"dataframe\">\n",
       "  <thead>\n",
       "    <tr style=\"text-align: right;\">\n",
       "      <th></th>\n",
       "      <th>ProductID</th>\n",
       "      <th>ProductName</th>\n",
       "      <th>Category</th>\n",
       "      <th>Price</th>\n",
       "    </tr>\n",
       "  </thead>\n",
       "  <tbody>\n",
       "    <tr>\n",
       "      <th>0</th>\n",
       "      <td>P001</td>\n",
       "      <td>ActiveWear Biography</td>\n",
       "      <td>Books</td>\n",
       "      <td>169.3</td>\n",
       "    </tr>\n",
       "  </tbody>\n",
       "</table>\n",
       "</div>"
      ],
      "text/plain": [
       "  ProductID           ProductName Category  Price\n",
       "0      P001  ActiveWear Biography    Books  169.3"
      ]
     },
     "execution_count": 4,
     "metadata": {},
     "output_type": "execute_result"
    }
   ],
   "source": [
    "products.head(1)"
   ]
  },
  {
   "cell_type": "code",
   "execution_count": 5,
   "id": "33c3d726-371d-4070-9981-32d1680fd9b7",
   "metadata": {},
   "outputs": [
    {
     "data": {
      "text/html": [
       "<div>\n",
       "<style scoped>\n",
       "    .dataframe tbody tr th:only-of-type {\n",
       "        vertical-align: middle;\n",
       "    }\n",
       "\n",
       "    .dataframe tbody tr th {\n",
       "        vertical-align: top;\n",
       "    }\n",
       "\n",
       "    .dataframe thead th {\n",
       "        text-align: right;\n",
       "    }\n",
       "</style>\n",
       "<table border=\"1\" class=\"dataframe\">\n",
       "  <thead>\n",
       "    <tr style=\"text-align: right;\">\n",
       "      <th></th>\n",
       "      <th>TransactionID</th>\n",
       "      <th>CustomerID</th>\n",
       "      <th>ProductID</th>\n",
       "      <th>TransactionDate</th>\n",
       "      <th>Quantity</th>\n",
       "      <th>TotalValue</th>\n",
       "      <th>Price</th>\n",
       "    </tr>\n",
       "  </thead>\n",
       "  <tbody>\n",
       "    <tr>\n",
       "      <th>0</th>\n",
       "      <td>T00001</td>\n",
       "      <td>C0199</td>\n",
       "      <td>P067</td>\n",
       "      <td>2024-08-25 12:38:23</td>\n",
       "      <td>1</td>\n",
       "      <td>300.68</td>\n",
       "      <td>300.68</td>\n",
       "    </tr>\n",
       "  </tbody>\n",
       "</table>\n",
       "</div>"
      ],
      "text/plain": [
       "  TransactionID CustomerID ProductID      TransactionDate  Quantity  \\\n",
       "0        T00001      C0199      P067  2024-08-25 12:38:23         1   \n",
       "\n",
       "   TotalValue   Price  \n",
       "0      300.68  300.68  "
      ]
     },
     "execution_count": 5,
     "metadata": {},
     "output_type": "execute_result"
    }
   ],
   "source": [
    "transactions.head(1)"
   ]
  },
  {
   "cell_type": "code",
   "execution_count": 6,
   "id": "9c5e9827-6c97-4e0d-b6cc-daf6723f9802",
   "metadata": {},
   "outputs": [],
   "source": [
    "df = transactions.merge(customers, on=\"CustomerID\", how=\"inner\")"
   ]
  },
  {
   "cell_type": "code",
   "execution_count": 7,
   "id": "c1d58a09-384b-4852-bbee-9a560576fd63",
   "metadata": {},
   "outputs": [
    {
     "data": {
      "text/plain": [
       "(1000, 10)"
      ]
     },
     "execution_count": 7,
     "metadata": {},
     "output_type": "execute_result"
    }
   ],
   "source": [
    "df.shape"
   ]
  },
  {
   "cell_type": "code",
   "execution_count": 8,
   "id": "b442b5ac-088e-4164-a84b-a7d488133183",
   "metadata": {},
   "outputs": [
    {
     "data": {
      "text/html": [
       "<div>\n",
       "<style scoped>\n",
       "    .dataframe tbody tr th:only-of-type {\n",
       "        vertical-align: middle;\n",
       "    }\n",
       "\n",
       "    .dataframe tbody tr th {\n",
       "        vertical-align: top;\n",
       "    }\n",
       "\n",
       "    .dataframe thead th {\n",
       "        text-align: right;\n",
       "    }\n",
       "</style>\n",
       "<table border=\"1\" class=\"dataframe\">\n",
       "  <thead>\n",
       "    <tr style=\"text-align: right;\">\n",
       "      <th></th>\n",
       "      <th>TransactionID</th>\n",
       "      <th>CustomerID</th>\n",
       "      <th>ProductID</th>\n",
       "      <th>TransactionDate</th>\n",
       "      <th>Quantity</th>\n",
       "      <th>TotalValue</th>\n",
       "      <th>Price</th>\n",
       "      <th>CustomerName</th>\n",
       "      <th>Region</th>\n",
       "      <th>SignupDate</th>\n",
       "    </tr>\n",
       "  </thead>\n",
       "  <tbody>\n",
       "    <tr>\n",
       "      <th>18</th>\n",
       "      <td>T00938</td>\n",
       "      <td>C0087</td>\n",
       "      <td>P030</td>\n",
       "      <td>2024-02-21 18:51:05</td>\n",
       "      <td>3</td>\n",
       "      <td>833.58</td>\n",
       "      <td>277.86</td>\n",
       "      <td>Travis Campbell</td>\n",
       "      <td>South America</td>\n",
       "      <td>2024-04-11</td>\n",
       "    </tr>\n",
       "  </tbody>\n",
       "</table>\n",
       "</div>"
      ],
      "text/plain": [
       "   TransactionID CustomerID ProductID      TransactionDate  Quantity  \\\n",
       "18        T00938      C0087      P030  2024-02-21 18:51:05         3   \n",
       "\n",
       "    TotalValue   Price     CustomerName         Region  SignupDate  \n",
       "18      833.58  277.86  Travis Campbell  South America  2024-04-11  "
      ]
     },
     "execution_count": 8,
     "metadata": {},
     "output_type": "execute_result"
    }
   ],
   "source": [
    "df.sample(1)"
   ]
  },
  {
   "cell_type": "code",
   "execution_count": 9,
   "id": "01733b99-d17a-4781-925d-4fdf038961e3",
   "metadata": {},
   "outputs": [],
   "source": [
    "df=df.merge(products, on=\"ProductID\", how=\"inner\")"
   ]
  },
  {
   "cell_type": "code",
   "execution_count": 10,
   "id": "a78fb968-9908-43e4-9793-f296a84e0aa0",
   "metadata": {},
   "outputs": [
    {
     "data": {
      "text/plain": [
       "(1000, 13)"
      ]
     },
     "execution_count": 10,
     "metadata": {},
     "output_type": "execute_result"
    }
   ],
   "source": [
    "df.shape"
   ]
  },
  {
   "cell_type": "code",
   "execution_count": 11,
   "id": "c7771214-0b02-48ba-b413-35ef7bb7b682",
   "metadata": {},
   "outputs": [
    {
     "data": {
      "text/html": [
       "<div>\n",
       "<style scoped>\n",
       "    .dataframe tbody tr th:only-of-type {\n",
       "        vertical-align: middle;\n",
       "    }\n",
       "\n",
       "    .dataframe tbody tr th {\n",
       "        vertical-align: top;\n",
       "    }\n",
       "\n",
       "    .dataframe thead th {\n",
       "        text-align: right;\n",
       "    }\n",
       "</style>\n",
       "<table border=\"1\" class=\"dataframe\">\n",
       "  <thead>\n",
       "    <tr style=\"text-align: right;\">\n",
       "      <th></th>\n",
       "      <th>TransactionID</th>\n",
       "      <th>CustomerID</th>\n",
       "      <th>ProductID</th>\n",
       "      <th>TransactionDate</th>\n",
       "      <th>Quantity</th>\n",
       "      <th>TotalValue</th>\n",
       "      <th>Price_x</th>\n",
       "      <th>CustomerName</th>\n",
       "      <th>Region</th>\n",
       "      <th>SignupDate</th>\n",
       "      <th>ProductName</th>\n",
       "      <th>Category</th>\n",
       "      <th>Price_y</th>\n",
       "    </tr>\n",
       "  </thead>\n",
       "  <tbody>\n",
       "    <tr>\n",
       "      <th>801</th>\n",
       "      <td>T00926</td>\n",
       "      <td>C0181</td>\n",
       "      <td>P054</td>\n",
       "      <td>2024-08-16 02:29:10</td>\n",
       "      <td>3</td>\n",
       "      <td>171.90</td>\n",
       "      <td>57.30</td>\n",
       "      <td>Alexander Barker</td>\n",
       "      <td>South America</td>\n",
       "      <td>2023-11-16</td>\n",
       "      <td>SoundWave Cookbook</td>\n",
       "      <td>Books</td>\n",
       "      <td>57.30</td>\n",
       "    </tr>\n",
       "    <tr>\n",
       "      <th>861</th>\n",
       "      <td>T00373</td>\n",
       "      <td>C0179</td>\n",
       "      <td>P082</td>\n",
       "      <td>2024-02-07 20:28:19</td>\n",
       "      <td>2</td>\n",
       "      <td>111.98</td>\n",
       "      <td>55.99</td>\n",
       "      <td>Donald Miller</td>\n",
       "      <td>Europe</td>\n",
       "      <td>2022-10-16</td>\n",
       "      <td>ComfortLiving Rug</td>\n",
       "      <td>Home Decor</td>\n",
       "      <td>55.99</td>\n",
       "    </tr>\n",
       "  </tbody>\n",
       "</table>\n",
       "</div>"
      ],
      "text/plain": [
       "    TransactionID CustomerID ProductID      TransactionDate  Quantity  \\\n",
       "801        T00926      C0181      P054  2024-08-16 02:29:10         3   \n",
       "861        T00373      C0179      P082  2024-02-07 20:28:19         2   \n",
       "\n",
       "     TotalValue  Price_x      CustomerName         Region  SignupDate  \\\n",
       "801      171.90    57.30  Alexander Barker  South America  2023-11-16   \n",
       "861      111.98    55.99     Donald Miller         Europe  2022-10-16   \n",
       "\n",
       "            ProductName    Category  Price_y  \n",
       "801  SoundWave Cookbook       Books    57.30  \n",
       "861   ComfortLiving Rug  Home Decor    55.99  "
      ]
     },
     "execution_count": 11,
     "metadata": {},
     "output_type": "execute_result"
    }
   ],
   "source": [
    "df.sample(2)"
   ]
  },
  {
   "cell_type": "code",
   "execution_count": 12,
   "id": "4b79be7c-933e-47c6-9bbc-48faec38e560",
   "metadata": {},
   "outputs": [],
   "source": [
    "\n",
    "# Convert TransactionDate to datetime for time-based analysis\n",
    "df['TransactionDate'] = pd.to_datetime(df['TransactionDate'])\n"
   ]
  },
  {
   "cell_type": "code",
   "execution_count": 13,
   "id": "6d970404-1ffd-4555-86e2-de9f491596f7",
   "metadata": {},
   "outputs": [],
   "source": [
    "# Step 1: Feature Engineering\n",
    "\n",
    "# Add year and month to TransactionDate\n",
    "df['TransactionYear'] = df['TransactionDate'].dt.year\n",
    "df['TransactionMonth'] = df['TransactionDate'].dt.month\n"
   ]
  },
  {
   "cell_type": "code",
   "execution_count": 14,
   "id": "d938b935-c3d5-45c8-8a67-4a0b7705f672",
   "metadata": {},
   "outputs": [
    {
     "data": {
      "text/html": [
       "<div>\n",
       "<style scoped>\n",
       "    .dataframe tbody tr th:only-of-type {\n",
       "        vertical-align: middle;\n",
       "    }\n",
       "\n",
       "    .dataframe tbody tr th {\n",
       "        vertical-align: top;\n",
       "    }\n",
       "\n",
       "    .dataframe thead th {\n",
       "        text-align: right;\n",
       "    }\n",
       "</style>\n",
       "<table border=\"1\" class=\"dataframe\">\n",
       "  <thead>\n",
       "    <tr style=\"text-align: right;\">\n",
       "      <th></th>\n",
       "      <th>TransactionID</th>\n",
       "      <th>CustomerID</th>\n",
       "      <th>ProductID</th>\n",
       "      <th>TransactionDate</th>\n",
       "      <th>Quantity</th>\n",
       "      <th>TotalValue</th>\n",
       "      <th>Price_x</th>\n",
       "      <th>CustomerName</th>\n",
       "      <th>Region</th>\n",
       "      <th>SignupDate</th>\n",
       "      <th>ProductName</th>\n",
       "      <th>Category</th>\n",
       "      <th>Price_y</th>\n",
       "      <th>TransactionYear</th>\n",
       "      <th>TransactionMonth</th>\n",
       "    </tr>\n",
       "  </thead>\n",
       "  <tbody>\n",
       "    <tr>\n",
       "      <th>516</th>\n",
       "      <td>T00358</td>\n",
       "      <td>C0154</td>\n",
       "      <td>P034</td>\n",
       "      <td>2024-04-08 20:47:01</td>\n",
       "      <td>1</td>\n",
       "      <td>217.05</td>\n",
       "      <td>217.05</td>\n",
       "      <td>Robert Sharp</td>\n",
       "      <td>North America</td>\n",
       "      <td>2024-10-27</td>\n",
       "      <td>HomeSense T-Shirt</td>\n",
       "      <td>Clothing</td>\n",
       "      <td>217.05</td>\n",
       "      <td>2024</td>\n",
       "      <td>4</td>\n",
       "    </tr>\n",
       "  </tbody>\n",
       "</table>\n",
       "</div>"
      ],
      "text/plain": [
       "    TransactionID CustomerID ProductID     TransactionDate  Quantity  \\\n",
       "516        T00358      C0154      P034 2024-04-08 20:47:01         1   \n",
       "\n",
       "     TotalValue  Price_x  CustomerName         Region  SignupDate  \\\n",
       "516      217.05   217.05  Robert Sharp  North America  2024-10-27   \n",
       "\n",
       "           ProductName  Category  Price_y  TransactionYear  TransactionMonth  \n",
       "516  HomeSense T-Shirt  Clothing   217.05             2024                 4  "
      ]
     },
     "execution_count": 14,
     "metadata": {},
     "output_type": "execute_result"
    }
   ],
   "source": [
    "df.sample()"
   ]
  },
  {
   "cell_type": "code",
   "execution_count": 15,
   "id": "edd8b769-0826-43c4-9bff-874a690d0bb7",
   "metadata": {},
   "outputs": [],
   "source": [
    "# Total transaction value per customer\n",
    "customer_features = df.groupby('CustomerID').agg({\n",
    "    'TotalValue': 'sum',             # total spending\n",
    "    'TransactionID': 'count',        # number of transactions\n",
    "    'ProductID': 'nunique',          # number of unique products bought\n",
    "    'Price_x': 'mean',               # average price paid per transaction\n",
    "    'TransactionYear': 'nunique'     # number of years active\n",
    "}).reset_index()"
   ]
  },
  {
   "cell_type": "code",
   "execution_count": 16,
   "id": "300f6c0e-33ed-4c1b-8b7e-6a1499563b35",
   "metadata": {},
   "outputs": [],
   "source": [
    "customer_features.rename(columns={\n",
    "    'TotalValue': 'TotalSpending',\n",
    "    'TransactionID': 'TransactionCount',\n",
    "    'ProductID': 'UniqueProductsBought',\n",
    "    'Price_x': 'AvgTransactionValue',\n",
    "    'TransactionYear': 'ActiveYears'\n",
    "}, inplace=True)"
   ]
  },
  {
   "cell_type": "code",
   "execution_count": 17,
   "id": "cbc951b4-60d7-4280-a912-1e06e476f170",
   "metadata": {},
   "outputs": [
    {
     "data": {
      "text/html": [
       "<div>\n",
       "<style scoped>\n",
       "    .dataframe tbody tr th:only-of-type {\n",
       "        vertical-align: middle;\n",
       "    }\n",
       "\n",
       "    .dataframe tbody tr th {\n",
       "        vertical-align: top;\n",
       "    }\n",
       "\n",
       "    .dataframe thead th {\n",
       "        text-align: right;\n",
       "    }\n",
       "</style>\n",
       "<table border=\"1\" class=\"dataframe\">\n",
       "  <thead>\n",
       "    <tr style=\"text-align: right;\">\n",
       "      <th></th>\n",
       "      <th>CustomerID</th>\n",
       "      <th>TotalSpending</th>\n",
       "      <th>TransactionCount</th>\n",
       "      <th>UniqueProductsBought</th>\n",
       "      <th>AvgTransactionValue</th>\n",
       "      <th>ActiveYears</th>\n",
       "    </tr>\n",
       "  </thead>\n",
       "  <tbody>\n",
       "    <tr>\n",
       "      <th>0</th>\n",
       "      <td>C0001</td>\n",
       "      <td>3354.52</td>\n",
       "      <td>5</td>\n",
       "      <td>5</td>\n",
       "      <td>278.334</td>\n",
       "      <td>1</td>\n",
       "    </tr>\n",
       "  </tbody>\n",
       "</table>\n",
       "</div>"
      ],
      "text/plain": [
       "  CustomerID  TotalSpending  TransactionCount  UniqueProductsBought  \\\n",
       "0      C0001        3354.52                 5                     5   \n",
       "\n",
       "   AvgTransactionValue  ActiveYears  \n",
       "0              278.334            1  "
      ]
     },
     "execution_count": 17,
     "metadata": {},
     "output_type": "execute_result"
    }
   ],
   "source": [
    "customer_features.head(1)"
   ]
  },
  {
   "cell_type": "code",
   "execution_count": 18,
   "id": "612f4990-e00c-44b4-a49f-cfa2fb29685c",
   "metadata": {},
   "outputs": [],
   "source": [
    "# Add the most purchased product category\n",
    "most_purchased_category = (\n",
    "    df.groupby(['CustomerID', 'Category'])['Quantity']\n",
    "    .sum()\n",
    "    .reset_index()\n",
    "    .sort_values(['CustomerID', 'Quantity'], ascending=[True, False])\n",
    "    .drop_duplicates('CustomerID', keep='first')\n",
    ")\n",
    "most_purchased_category.rename(columns={'Category': 'TopCategory'}, inplace=True)"
   ]
  },
  {
   "cell_type": "code",
   "execution_count": 19,
   "id": "edf23155-9332-4f84-b428-fa2dacab6e6d",
   "metadata": {},
   "outputs": [
    {
     "data": {
      "text/html": [
       "<div>\n",
       "<style scoped>\n",
       "    .dataframe tbody tr th:only-of-type {\n",
       "        vertical-align: middle;\n",
       "    }\n",
       "\n",
       "    .dataframe tbody tr th {\n",
       "        vertical-align: top;\n",
       "    }\n",
       "\n",
       "    .dataframe thead th {\n",
       "        text-align: right;\n",
       "    }\n",
       "</style>\n",
       "<table border=\"1\" class=\"dataframe\">\n",
       "  <thead>\n",
       "    <tr style=\"text-align: right;\">\n",
       "      <th></th>\n",
       "      <th>CustomerID</th>\n",
       "      <th>TopCategory</th>\n",
       "      <th>Quantity</th>\n",
       "    </tr>\n",
       "  </thead>\n",
       "  <tbody>\n",
       "    <tr>\n",
       "      <th>56</th>\n",
       "      <td>C0022</td>\n",
       "      <td>Clothing</td>\n",
       "      <td>10</td>\n",
       "    </tr>\n",
       "  </tbody>\n",
       "</table>\n",
       "</div>"
      ],
      "text/plain": [
       "   CustomerID TopCategory  Quantity\n",
       "56      C0022    Clothing        10"
      ]
     },
     "execution_count": 19,
     "metadata": {},
     "output_type": "execute_result"
    }
   ],
   "source": [
    "most_purchased_category.sample(1)"
   ]
  },
  {
   "cell_type": "code",
   "execution_count": 20,
   "id": "f9ad703c-749e-4ceb-aa24-e9b58c3b20d2",
   "metadata": {},
   "outputs": [],
   "source": [
    "# Merge customer features with most purchased category\n",
    "customer_features = customer_features.merge(most_purchased_category[['CustomerID', 'TopCategory']], on='CustomerID', how='left')\n"
   ]
  },
  {
   "cell_type": "code",
   "execution_count": 21,
   "id": "a63897ad-804b-4a16-9973-0c35ef8d9d1b",
   "metadata": {},
   "outputs": [
    {
     "data": {
      "text/html": [
       "<div>\n",
       "<style scoped>\n",
       "    .dataframe tbody tr th:only-of-type {\n",
       "        vertical-align: middle;\n",
       "    }\n",
       "\n",
       "    .dataframe tbody tr th {\n",
       "        vertical-align: top;\n",
       "    }\n",
       "\n",
       "    .dataframe thead th {\n",
       "        text-align: right;\n",
       "    }\n",
       "</style>\n",
       "<table border=\"1\" class=\"dataframe\">\n",
       "  <thead>\n",
       "    <tr style=\"text-align: right;\">\n",
       "      <th></th>\n",
       "      <th>CustomerID</th>\n",
       "      <th>TotalSpending</th>\n",
       "      <th>TransactionCount</th>\n",
       "      <th>UniqueProductsBought</th>\n",
       "      <th>AvgTransactionValue</th>\n",
       "      <th>ActiveYears</th>\n",
       "      <th>TopCategory</th>\n",
       "    </tr>\n",
       "  </thead>\n",
       "  <tbody>\n",
       "    <tr>\n",
       "      <th>0</th>\n",
       "      <td>C0001</td>\n",
       "      <td>3354.52</td>\n",
       "      <td>5</td>\n",
       "      <td>5</td>\n",
       "      <td>278.334</td>\n",
       "      <td>1</td>\n",
       "      <td>Electronics</td>\n",
       "    </tr>\n",
       "  </tbody>\n",
       "</table>\n",
       "</div>"
      ],
      "text/plain": [
       "  CustomerID  TotalSpending  TransactionCount  UniqueProductsBought  \\\n",
       "0      C0001        3354.52                 5                     5   \n",
       "\n",
       "   AvgTransactionValue  ActiveYears  TopCategory  \n",
       "0              278.334            1  Electronics  "
      ]
     },
     "execution_count": 21,
     "metadata": {},
     "output_type": "execute_result"
    }
   ],
   "source": [
    "customer_features.head(1)"
   ]
  },
  {
   "cell_type": "code",
   "execution_count": 22,
   "id": "4d14bdab-bb5c-400f-ba5c-ce3eeaa9155f",
   "metadata": {},
   "outputs": [],
   "source": [
    "# Step 2: Similarity Calculation\n",
    "\n",
    "# Encode the categorical 'TopCategory'\n",
    "encoder = LabelEncoder()\n",
    "customer_features['TopCategoryEncoded'] = encoder.fit_transform(customer_features['TopCategory'])\n",
    "\n",
    "# Scale numerical features\n",
    "scaler = StandardScaler()\n",
    "scaled_features = scaler.fit_transform(customer_features[['TotalSpending', 'TransactionCount', 'UniqueProductsBought', 'AvgTransactionValue', 'ActiveYears', 'TopCategoryEncoded']])\n",
    "\n",
    "# Compute cosine similarity\n",
    "similarity_matrix = cosine_similarity(scaled_features)\n"
   ]
  },
  {
   "cell_type": "code",
   "execution_count": 23,
   "id": "b67b6005-51fb-417d-8dc8-f5677f9ee9ab",
   "metadata": {},
   "outputs": [],
   "source": [
    "\n",
    "# Convert similarity matrix to DataFrame\n",
    "similarity_df = pd.DataFrame(similarity_matrix, index=customer_features['CustomerID'], columns=customer_features['CustomerID'])\n"
   ]
  },
  {
   "cell_type": "code",
   "execution_count": 24,
   "id": "536ae5ae-7fd5-4519-b50e-2c0589b728fa",
   "metadata": {},
   "outputs": [],
   "source": [
    "# Step 3: Get Top 3 Similar Customers\n",
    "\n",
    "def get_top_similar(customers, similarity_matrix, top_n=3):\n",
    "    lookalike_map = {}\n",
    "    for customer in customers:\n",
    "        similar_customers = similarity_matrix[customer].sort_values(ascending=False).iloc[1:top_n + 1]\n",
    "        lookalike_map[customer] = list(zip(similar_customers.index, similar_customers.values))\n",
    "    return lookalike_map\n",
    "\n"
   ]
  },
  {
   "cell_type": "code",
   "execution_count": 25,
   "id": "fd87af29-581a-4b3b-8ca7-12696b5db2bf",
   "metadata": {},
   "outputs": [],
   "source": [
    "# Generate lookalike recommendations for first 20 customers\n",
    "first_20_customers = customer_features['CustomerID'][:20]\n",
    "lookalike_map = get_top_similar(first_20_customers, similarity_df)\n",
    "\n",
    "# Convert to Lookalike.csv format\n",
    "lookalike_data = [{'CustomerID': k, 'Lookalikes': v} for k, v in lookalike_map.items()]\n",
    "lookalike_df = pd.DataFrame(lookalike_data)\n",
    "\n",
    "# Save recommendations to CSV\n",
    "lookalike_df.to_csv('Lookalike.csv', index=False)"
   ]
  },
  {
   "cell_type": "code",
   "execution_count": 26,
   "id": "f0086fe8-678c-4a75-a8db-33838909e2eb",
   "metadata": {},
   "outputs": [
    {
     "name": "stderr",
     "output_type": "stream",
     "text": [
      "C:\\Users\\acer\\anaconda3\\Lib\\site-packages\\seaborn\\_oldcore.py:1119: FutureWarning: use_inf_as_na option is deprecated and will be removed in a future version. Convert inf values to NaN before operating instead.\n",
      "  with pd.option_context('mode.use_inf_as_na', True):\n"
     ]
    },
    {
     "data": {
      "image/png": "[encoded data removed]",
      "text/plain": [
       "<Figure size 640x480 with 1 Axes>"
      ]
     },
     "metadata": {},
     "output_type": "display_data"
    }
   ],
   "source": [
    "# Step 4: Additional Visualizations\n",
    "\n",
    "# Distribution of Total Spending\n",
    "\n",
    "sns.histplot(customer_features['TotalSpending'], kde=True, bins=20)\n",
    "plt.title('Distribution of Total Spending')\n",
    "plt.xlabel('Total Spending')\n",
    "plt.ylabel('Frequency')\n",
    "plt.show()"
   ]
  },
  {
   "cell_type": "code",
   "execution_count": 27,
   "id": "8433dcc1-809c-4ad7-b370-7bd5f3c889d8",
   "metadata": {},
   "outputs": [
    {
     "name": "stderr",
     "output_type": "stream",
     "text": [
      "C:\\Users\\acer\\anaconda3\\Lib\\site-packages\\seaborn\\_oldcore.py:1119: FutureWarning: use_inf_as_na option is deprecated and will be removed in a future version. Convert inf values to NaN before operating instead.\n",
      "  with pd.option_context('mode.use_inf_as_na', True):\n"
     ]
    },
    {
     "data": {
      "image/png": "[encoded data removed]",
      "text/plain": [
       "<Figure size 640x480 with 1 Axes>"
      ]
     },
     "metadata": {},
     "output_type": "display_data"
    }
   ],
   "source": [
    "# Distribution of Transaction Count\n",
    "sns.histplot(customer_features['TransactionCount'], kde=True, bins=20)\n",
    "plt.title('Distribution of Transaction Count')\n",
    "plt.xlabel('Transaction Count')\n",
    "plt.ylabel('Frequency')\n",
    "plt.show()"
   ]
  },
  {
   "cell_type": "code",
   "execution_count": 28,
   "id": "d862c0ea-ab60-4190-9c52-348ea8ea4a92",
   "metadata": {},
   "outputs": [
    {
     "data": {
      "image/png": "[encoded data removed]",
      "text/plain": [
       "<Figure size 640x480 with 1 Axes>"
      ]
     },
     "metadata": {},
     "output_type": "display_data"
    }
   ],
   "source": [
    "# Top Categories by Frequency\n",
    "top_categories = most_purchased_category['TopCategory'].value_counts()\n",
    "sns.barplot(x=top_categories.index, y=top_categories.values)\n",
    "plt.title('Most Purchased Product Categories')\n",
    "plt.xlabel('Category')\n",
    "plt.ylabel('Frequency')\n",
    "plt.xticks()\n",
    "plt.show()"
   ]
  },
  {
   "cell_type": "code",
   "execution_count": 29,
   "id": "7a566b4e-f178-4b88-8cf9-6648cc7bf222",
   "metadata": {},
   "outputs": [
    {
     "name": "stdout",
     "output_type": "stream",
     "text": [
      "Top 3 Lookalikes for the first 20 customers:\n",
      "C0001: [('C0164', 0.9690507000333249), ('C0152', 0.9436014860832437), ('C0103', 0.9200208862981109)]\n",
      "C0002: [('C0025', 0.9892661503057171), ('C0071', 0.9693252645669626), ('C0003', 0.9645741920486384)]\n",
      "C0003: [('C0178', 0.9670190959432479), ('C0002', 0.9645741920486384), ('C0025', 0.9618229895391744)]\n",
      "C0004: [('C0108', 0.9808272031343382), ('C0113', 0.9744464362023267), ('C0124', 0.9620697392176214)]\n",
      "C0005: [('C0020', 0.9883314024462088), ('C0130', 0.9881035085307704), ('C0120', 0.9879710401704663)]\n",
      "C0006: [('C0117', 0.961647367163539), ('C0185', 0.920600350954412), ('C0125', 0.9064118555143358)]\n",
      "C0007: [('C0085', 0.9999794169587695), ('C0050', 0.9611171613214974), ('C0089', 0.9544038236171517)]\n",
      "C0008: [('C0109', 0.9791671746850896), ('C0098', 0.9648072068576807), ('C0175', 0.9503822977017069)]\n",
      "C0009: [('C0150', 0.9527372995541954), ('C0058', 0.9181680353953399), ('C0198', 0.9058387848190499)]\n",
      "C0010: [('C0121', 0.9688364282096108), ('C0029', 0.9575541014239084), ('C0077', 0.9418136601346596)]\n",
      "C0011: [('C0064', 0.9921246202680014), ('C0137', 0.9854030880691371), ('C0037', 0.9775244563919987)]\n",
      "C0012: [('C0108', 0.963613035105823), ('C0124', 0.9311234646853669), ('C0004', 0.9224516146291795)]\n",
      "C0013: [('C0099', 0.9888539503619667), ('C0141', 0.9886867956508274), ('C0046', 0.9751153139529449)]\n",
      "C0014: [('C0097', 0.9975703629424375), ('C0197', 0.991555384614391), ('C0035', 0.9845837221041285)]\n",
      "C0015: [('C0080', 0.9820874514849605), ('C0128', 0.9681250738398247), ('C0089', 0.9663983546721382)]\n",
      "C0016: [('C0048', 0.9849108358728518), ('C0187', 0.9838647966013677), ('C0107', 0.983330118240473)]\n",
      "C0017: [('C0154', 0.941690710724522), ('C0081', 0.9177053829813195), ('C0040', 0.8158633201816623)]\n",
      "C0018: [('C0182', 0.8659358063332685), ('C0163', 0.8388343852668723), ('C0105', 0.8100221968336943)]\n",
      "C0019: [('C0047', 0.9113166461014293), ('C0174', 0.8863124246120205), ('C0119', 0.8748798995428394)]\n",
      "C0020: [('C0130', 0.9981149706220914), ('C0140', 0.9935382155798446), ('C0005', 0.9883314024462088)]\n"
     ]
    }
   ],
   "source": [
    "# Step 5: Quality Check of Recommendations\n",
    "# Print recommendations for manual validation\n",
    "print(\"Top 3 Lookalikes for the first 20 customers:\")\n",
    "for customer, lookalikes in lookalike_map.items():\n",
    "    print(f\"{customer}: {lookalikes}\")"
   ]
  },
  {
   "cell_type": "code",
   "execution_count": null,
   "id": "f4309401-7632-4022-b78c-5b69472b124c",
   "metadata": {},
   "outputs": [],
   "source": []
  },
  {
   "cell_type": "code",
   "execution_count": null,
   "id": "cb41e653-f0c3-42a1-b7c5-177ce8f48f66",
   "metadata": {},
   "outputs": [],
   "source": []
  }
 ],
 "metadata": {
  "kernelspec": {
   "display_name": "Python 3 (ipykernel)",
   "language": "python",
   "name": "python3"
  },
  "language_info": {
   "codemirror_mode": {
    "name": "ipython",
    "version": 3
   },
   "file_extension": ".py",
   "mimetype": "text/x-python",
   "name": "python",
   "nbconvert_exporter": "python",
   "pygments_lexer": "ipython3",
   "version": "3.11.7"
  }
 },
 "nbformat": 4,
 "nbformat_minor": 5
}
